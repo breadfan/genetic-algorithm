{
 "cells": [
  {
   "cell_type": "code",
   "execution_count": null,
   "outputs": [],
   "source": [
    "# prints\n",
    "\n",
    "#SELECTION\n",
    "\n",
    "# print(f'rand:\\n{self.pop[rand_cand_ids]}')\n",
    "# print(f'randbest scores:\\n{np.argmax(self.scores[rand_cand_ids],axis=1)}')\n",
    "\n",
    "# print(f'best in rand: {self.pop[rand_cand_ids[np.arange(self.n_pop), np.argmax(self.scores[rand_cand_ids],axis=1)] ]}')\n",
    "# print(f'best:\\n{self.pop[best_cand_ids]}')\n",
    "#print(self.pop[best_cand_ids].shape)\n",
    "#parents = np.unique(self.pop[best_cand_ids], axis=0) # test part with unique\n",
    "#print(len(best_cand_ids))\n",
    "# print(f'pop:\\n{self.pop}')\n",
    "#print(f'parents:\\n{parents}')\n",
    "# print(f'unique parents:\\n{np.unique(parents, axis=0)}')\n",
    "# CROSSOVER\n",
    "\n",
    "#print(np.random.rand(self.n-1) < self.crossover_prob)\n",
    "\n",
    "# result_children = np.zeros((2*self.n, self.bits))    # 2* because we take each pair\n",
    "# print(pairs_ids)\n",
    "# print(valid_ids)\n",
    "# print(pairs_ids[~valid_ids])\n",
    "# print(type(pairs_ids[~valid_ids]))\n",
    "# print(type(selected))\n",
    "# print(change_ptr)\n",
    "# print(selected)\n",
    "#print(pairs_ids[valid_ids])\n",
    "\n",
    "#print(selected[pairs_ids[valid_ids]])\n",
    "\n",
    "# print(first)\n",
    "# print(second)"
   ],
   "metadata": {
    "collapsed": false,
    "pycharm": {
     "name": "#%%\n"
    }
   }
  },
  {
   "cell_type": "code",
   "execution_count": 90,
   "outputs": [],
   "source": [
    "import numpy as np\n",
    "class GeneticAlgorithm(list):\n",
    "    def __init__(self, n_pop=10, n_bits=10, select_k=3,\n",
    "                 score_function=np.sum, crossover_prob=0.9, bounds=None,\n",
    "                 n_epochs=5, mut_prob=None, minimize=False):\n",
    "        super(GeneticAlgorithm, self).__init__()\n",
    "        self.n_pop = n_pop\n",
    "        self.n_dim = len(bounds)\n",
    "        self.bounds = bounds  # for continuous function\n",
    "        self.pop = np.random.randint(0, 2, (n_pop, n_bits*self.n_dim))\n",
    "        self.n_bits = n_bits*self.n_dim  # multiplying because of groups\n",
    "        self.select_k = select_k\n",
    "\n",
    "        self.mut_prob = mut_prob or 1.0 / n_bits   # mutation probability value is low typically\n",
    "        self.crossover_prob = crossover_prob        # crossover probability value is high typically\n",
    "        self.n_epochs = n_epochs\n",
    "        self.minimize = minimize\n",
    "        self.decoded = None\n",
    "        self.score_function = score_function\n",
    "        if score_function != np.sum:\n",
    "            self.decoded = self.decode()\n",
    "            self.scores = score_function(self.decoded)\n",
    "        else:\n",
    "            self.scores = score_function(self.pop, axis=1) # 2-d array\n",
    "    def decode(self):\n",
    "        \"\"\"\n",
    "            Taking a binary array of arrays (or bitstrings),\n",
    "            function returns array of decoded to decimal numeric system array of arrays of numers.\n",
    "            Vectorized.\n",
    "            :return decoded: array of arrays with decimal numbers.\n",
    "        \"\"\"\n",
    "        decoded = np.zeros((self.n_pop, self.n_dim))\n",
    "\n",
    "        for group_num in np.arange(self.n_dim):\n",
    "            begin, end = group_num*self.n_bits//self.n_dim, (group_num+1)*self.n_bits//self.n_dim\n",
    "            temp_slice = self.pop[:, begin:end]\n",
    "\n",
    "            temp_slice = temp_slice.dot(1 << np.arange(temp_slice.shape[-1] - 1, -1, -1))\n",
    "            # putting values into an interval [a, b]\n",
    "            # formulae is: a_i + k*(b_i - a_i)/2^n, where a, b -- borders, n -- number of bits\n",
    "            denom = 2**(self.n_bits//self.n_dim)   # assuming n_bits for each group\n",
    "            a, b = self.bounds[group_num]\n",
    "\n",
    "            # print(temp_slice)\n",
    "            # print(denom, a, b)\n",
    "            temp_slice = a + temp_slice*(b - a)/denom\n",
    "            #print(temp_slice)\n",
    "            decoded[np.arange(self.n_pop), group_num] =  temp_slice\n",
    "        return decoded\n",
    "\n",
    "    def selection(self):\n",
    "        \"\"\"\n",
    "        Searching for the best candidate for continuing population.\n",
    "        Operation is vectorized.\n",
    "\n",
    "        :return pop[best_cand_ids]: the best possible objects for continuing the population\n",
    "        \"\"\"\n",
    "        best_cand_ids = np.random.randint(0, self.n_pop, self.n_pop)\n",
    "        rand_cand_ids = np.random.randint(0, self.n_pop, (self.n_pop, self.select_k-1))\n",
    "\n",
    "        if self.minimize:\n",
    "            rand_cand_ids = rand_cand_ids[np.arange(self.n_pop), np.argmin(self.scores[rand_cand_ids],axis=1)] # for minimization\n",
    "        else:\n",
    "            rand_cand_ids = rand_cand_ids[np.arange(self.n_pop), np.argmax(self.scores[rand_cand_ids],axis=1)]  # watching at k random candidates\n",
    "\n",
    "        # selecting only one for each gene\n",
    "\n",
    "        mult = -1 if self.minimize else 1  # if we minimize the score function, simply multiply by 1\n",
    "        ids_where_best_worse = mult*self.scores[rand_cand_ids] > mult*self.scores[best_cand_ids]\n",
    "        best_cand_ids[ids_where_best_worse] = rand_cand_ids[ids_where_best_worse]\n",
    "\n",
    "\n",
    "        parents = self.pop[best_cand_ids]\n",
    "        # if len(parents) == 1:\n",
    "        #     parents= np.vstack([parents, parents])\n",
    "\n",
    "        return parents\n",
    "    def mutation(self, children):\n",
    "        \"\"\"\n",
    "            Performs mutation over children.\n",
    "            Vectorized.\n",
    "            Rewrites self.pop\n",
    "            :param : current row to implement mutation\n",
    "        \"\"\"\n",
    "        probs = np.random.rand(children.shape[0], self.n_bits)  # probs of mutations\n",
    "\n",
    "        children[probs < self.mut_prob] = 1 - children[probs < self.mut_prob]\n",
    "\n",
    "        return children\n",
    "\n",
    "    def crossover(self, parents):\n",
    "        pairs_ids = np.stack([np.arange(0, self.n_pop-1, 2), np.arange(1, self.n_pop, 2)], axis=1)  # just matrix (n-1, 2) with pairs of indexes: [[0, 1], [2, 3], [4, 5]...]\n",
    "\n",
    "        probs_of_selection = np.random.rand(self.n_pop//2)  # probs of selection\n",
    "        valid_pairs = pairs_ids[probs_of_selection <= self.crossover_prob]  # \"<\" because we're draw probability of \"not to be crossovered\"\n",
    "        not_valid_pairs = pairs_ids[probs_of_selection > self.crossover_prob]\n",
    "        change_ptr = np.random.randint(1, self.n_bits-2, valid_pairs.shape[0])\n",
    "\n",
    "        children = parents[not_valid_pairs].tolist()\n",
    "\n",
    "        for el_ind in np.arange(len(valid_pairs)): # no way of vectorization since pointers may vary\n",
    "\n",
    "            first, second = parents[valid_pairs[el_ind]]\n",
    "            res_first, res_second = first.copy(), second.copy()\n",
    "            # changing substrings\n",
    "\n",
    "            res_first[:change_ptr[el_ind]] = second[:change_ptr[el_ind]] # '+' operation works as an .append() function\n",
    "            res_second[:change_ptr[el_ind]] = first[:change_ptr[el_ind]]\n",
    "\n",
    "            #assert type(res_first) == np.ndarray\n",
    "            children.append([res_first, res_second])\n",
    "        children = np.vstack(children)\n",
    "\n",
    "        return children\n",
    "\n",
    "\n",
    "    def simulate(self):\n",
    "        best_ind, best_val = 0, self.scores[0].copy()\n",
    "        self.best_value = best_val\n",
    "        update_best = False\n",
    "        for epoch in range(self.n_epochs):\n",
    "            if self.minimize:\n",
    "                best_ind_temp = np.argmin(self.scores)\n",
    "                if self.scores[best_ind_temp] < best_val:\n",
    "                    update_best = True\n",
    "            else:\n",
    "                best_ind_temp = np.argmax(self.scores)\n",
    "                if self.scores[best_ind_temp] > best_val:\n",
    "                    update_best = True\n",
    "            if update_best:\n",
    "                best_ind = best_ind_temp.copy()\n",
    "                best_val = self.scores[best_ind].copy()\n",
    "                print(f'Epoch {epoch}. The best element now is: {best_ind} with value: {best_val}.')\n",
    "                print(f'Best element itself in binary code:\\n{self.pop[best_ind]}\\n and decode in decimal:'\n",
    "                      f'\\n{self.decoded[best_ind]}')\n",
    "                print('-----------------------------------------------------------------------------------')\n",
    "                self.best_value = best_val\n",
    "                update_best = False\n",
    "\n",
    "            # main part of the algorithm\n",
    "            parents = self.selection()\n",
    "            children = self.crossover(parents)\n",
    "            mutate = self.mutation(children)\n",
    "\n",
    "            self.pop = mutate.copy()\n",
    "            if self.score_function == np.sum:\n",
    "                self.scores = self.score_function(self.pop, axis=1)\n",
    "            else:\n",
    "                self.decoded = self.decode()\n",
    "                self.scores = self.score_function(self.decoded)\n",
    "\n",
    "\n",
    "            if best_val == self.n_bits and self.score_function == np.sum:\n",
    "                print(f'Found max with on {epoch} epoch')\n",
    "                return"
   ],
   "metadata": {
    "collapsed": false,
    "pycharm": {
     "name": "#%%\n"
    }
   }
  },
  {
   "cell_type": "code",
   "execution_count": 91,
   "outputs": [
    {
     "name": "stdout",
     "output_type": "stream",
     "text": [
      "Epoch 0. The best element now is: 83 with value: 58832584081.087494.\n",
      "Best element itself in binary code:\n",
      "[1 1 0 1 1 1 1 0 0 0 1 0 0 1 1 0 0 0 0 0 0 0 1 1 1 0 1 1 0 1 0 0 0 0 0 0 0\n",
      " 0 0 1 1 1 0 1 1 1 0 0]\n",
      " and decode in decimal:\n",
      "[ 367.76733398 -485.53466797 -492.73681641]\n",
      "-----------------------------------------------------------------------------------\n",
      "Epoch 1. The best element now is: 90 with value: 61714045871.96035.\n",
      "Best element itself in binary code:\n",
      "[1 0 1 1 0 0 1 0 0 0 1 1 1 0 1 0 0 1 0 0 0 1 1 0 0 1 0 0 1 0 0 1 1 1 1 1 1\n",
      " 1 1 1 1 0 0 1 1 0 1 0]\n",
      " and decode in decimal:\n",
      "[ 196.19750977 -225.4486084   498.44360352]\n",
      "-----------------------------------------------------------------------------------\n",
      "Epoch 2. The best element now is: 65 with value: 61725742105.02755.\n",
      "Best element itself in binary code:\n",
      "[1 1 1 0 0 0 1 1 0 0 0 1 0 0 1 0 1 0 0 0 0 1 1 0 0 1 0 0 1 0 0 1 1 1 1 1 1\n",
      " 1 1 1 1 0 0 1 1 0 1 0]\n",
      " and decode in decimal:\n",
      "[386.9934082   24.5513916  498.44360352]\n",
      "-----------------------------------------------------------------------------------\n",
      "Epoch 3. The best element now is: 13 with value: 62042997108.80368.\n",
      "Best element itself in binary code:\n",
      "[1 0 0 0 1 0 1 0 1 0 0 1 0 1 0 1 0 1 1 0 1 0 1 1 1 0 1 1 0 1 0 0 0 0 0 0 0\n",
      " 0 0 0 0 0 1 1 1 1 0 0]\n",
      " and decode in decimal:\n",
      "[  41.33605957  -79.28466797 -499.08447266]\n",
      "-----------------------------------------------------------------------------------\n",
      "Epoch 4. The best element now is: 31 with value: 62225146945.77422.\n",
      "Best element itself in binary code:\n",
      "[1 1 1 1 1 1 0 0 0 1 0 0 1 0 1 1 1 1 1 0 1 0 1 1 1 1 1 0 1 0 0 0 1 1 1 1 1\n",
      " 1 1 1 1 1 0 1 0 0 1 0]\n",
      " and decode in decimal:\n",
      "[485.51940918 421.50878906 499.2980957 ]\n",
      "-----------------------------------------------------------------------------------\n",
      "Epoch 6. The best element now is: 13 with value: 62332350015.12471.\n",
      "Best element itself in binary code:\n",
      "[0 1 1 0 0 0 1 0 0 0 1 1 1 1 1 0 1 0 0 0 0 0 1 0 0 1 0 0 1 0 0 1 1 1 1 1 1\n",
      " 1 1 1 1 1 1 0 1 0 1 0]\n",
      " and decode in decimal:\n",
      "[-116.24145508    8.9263916   499.66430664]\n",
      "-----------------------------------------------------------------------------------\n",
      "Epoch 8. The best element now is: 83 with value: 62460719519.718216.\n",
      "Best element itself in binary code:\n",
      "[0 1 1 1 0 0 1 0 1 1 0 0 0 1 0 1 1 1 1 0 1 0 1 1 1 1 1 1 1 1 1 1 1 1 1 1 1\n",
      " 1 1 1 1 1 1 1 0 0 0 1]\n",
      " and decode in decimal:\n",
      "[-51.68151855 421.85974121 499.77111816]\n",
      "-----------------------------------------------------------------------------------\n",
      "Epoch 10. The best element now is: 33 with value: 62559380527.71905.\n",
      "Best element itself in binary code:\n",
      "[0 0 1 1 1 1 0 0 1 0 1 0 1 1 1 0 1 1 1 0 1 0 1 1 1 0 1 1 1 0 0 0 1 1 1 1 1\n",
      " 1 1 1 1 1 1 1 1 1 1 0]\n",
      " and decode in decimal:\n",
      "[-262.9699707   420.77636719  499.96948242]\n",
      "-----------------------------------------------------------------------------------\n",
      "Epoch 11. The best element now is: 57 with value: 62598021369.95423.\n",
      "Best element itself in binary code:\n",
      "[1 1 1 1 0 0 1 1 0 1 1 0 1 1 1 1 1 1 1 1 1 0 1 1 1 0 1 1 1 0 0 0 1 1 1 1 1\n",
      " 1 1 1 1 1 1 1 1 1 1 0]\n",
      " and decode in decimal:\n",
      "[450.91247559 483.27636719 499.96948242]\n",
      "-----------------------------------------------------------------------------------\n",
      "Epoch 15. The best element now is: 61 with value: 62598024577.41755.\n",
      "Best element itself in binary code:\n",
      "[0 0 0 0 1 1 1 1 0 0 1 0 1 1 0 1 1 1 1 1 1 0 1 1 1 0 1 1 1 0 1 0 1 1 1 1 1\n",
      " 1 1 1 1 1 1 1 1 1 1 0]\n",
      " and decode in decimal:\n",
      "[-440.71960449  483.30688477  499.96948242]\n",
      "-----------------------------------------------------------------------------------\n",
      "Epoch 16. The best element now is: 83 with value: 62606242044.42117.\n",
      "Best element itself in binary code:\n",
      "[0 0 0 0 1 1 1 1 0 0 1 0 1 1 0 1 1 1 1 1 1 0 1 1 1 1 1 1 0 0 0 1 1 1 1 1 1\n",
      " 1 1 1 1 1 1 1 1 1 1 1]\n",
      " and decode in decimal:\n",
      "[-440.71960449  484.14611816  499.98474121]\n",
      "-----------------------------------------------------------------------------------\n",
      "Epoch 17. The best element now is: 3 with value: 62606284969.28963.\n",
      "Best element itself in binary code:\n",
      "[0 0 0 0 1 1 1 1 0 0 1 0 1 1 0 1 1 1 1 1 1 0 1 1 1 1 1 1 0 1 0 1 1 1 1 1 1\n",
      " 1 1 1 1 1 1 1 1 1 1 1]\n",
      " and decode in decimal:\n",
      "[-440.71960449  484.20715332  499.98474121]\n",
      "-----------------------------------------------------------------------------------\n",
      "Epoch 19. The best element now is: 73 with value: 62617112862.029076.\n",
      "Best element itself in binary code:\n",
      "[0 1 1 1 0 0 1 1 0 1 0 0 1 0 0 0 1 1 1 1 1 1 1 1 1 1 1 0 1 0 0 1 1 1 1 1 1\n",
      " 1 1 1 1 1 1 1 1 1 1 1]\n",
      " and decode in decimal:\n",
      "[-49.68261719 499.64904785 499.98474121]\n",
      "-----------------------------------------------------------------------------------\n",
      "Epoch 20. The best element now is: 92 with value: 62617168953.33767.\n",
      "Best element itself in binary code:\n",
      "[0 1 0 1 0 0 1 1 0 1 0 0 1 0 0 0 1 1 1 1 1 1 1 1 1 1 1 0 1 0 0 1 1 1 1 1 1\n",
      " 1 1 1 1 1 1 1 1 1 1 1]\n",
      " and decode in decimal:\n",
      "[-174.68261719  499.64904785  499.98474121]\n",
      "-----------------------------------------------------------------------------------\n",
      "Epoch 21. The best element now is: 98 with value: 62617237534.09519.\n",
      "Best element itself in binary code:\n",
      "[0 1 0 1 0 0 1 1 0 1 0 0 1 0 0 0 1 1 1 1 1 1 1 1 1 1 1 0 1 1 1 1 1 1 1 1 1\n",
      " 1 1 1 1 1 1 1 1 1 1 1]\n",
      " and decode in decimal:\n",
      "[-174.68261719  499.74060059  499.98474121]\n",
      "-----------------------------------------------------------------------------------\n",
      "Epoch 23. The best element now is: 71 with value: 62617480609.902306.\n",
      "Best element itself in binary code:\n",
      "[0 0 0 1 1 1 0 0 0 0 1 0 1 1 0 1 1 1 1 1 1 1 1 1 1 1 1 0 1 1 1 1 1 1 1 1 1\n",
      " 1 1 1 1 1 1 1 1 1 1 1]\n",
      " and decode in decimal:\n",
      "[-389.93835449  499.74060059  499.98474121]\n",
      "-----------------------------------------------------------------------------------\n",
      "Epoch 24. The best element now is: 3 with value: 62617513588.50033.\n",
      "Best element itself in binary code:\n",
      "[0 0 0 1 0 1 1 0 1 1 1 0 0 1 1 1 1 1 1 1 1 1 1 1 1 1 1 0 1 1 1 1 1 1 1 1 1\n",
      " 1 1 1 1 1 1 1 1 1 1 1]\n",
      " and decode in decimal:\n",
      "[-410.53771973  499.74060059  499.98474121]\n",
      "-----------------------------------------------------------------------------------\n",
      "Epoch 26. The best element now is: 54 with value: 62617651051.20198.\n",
      "Best element itself in binary code:\n",
      "[0 0 0 0 0 0 1 1 0 1 0 0 1 1 0 1 1 1 1 1 1 1 1 1 1 1 1 0 1 1 1 1 1 1 1 1 1\n",
      " 1 1 1 1 1 1 1 1 1 1 1]\n",
      " and decode in decimal:\n",
      "[-487.10632324  499.74060059  499.98474121]\n",
      "-----------------------------------------------------------------------------------\n",
      "Epoch 27. The best element now is: 93 with value: 62617834056.10534.\n",
      "Best element itself in binary code:\n",
      "[0 0 0 0 0 0 1 1 0 1 0 0 1 1 0 1 1 1 1 1 1 1 1 1 1 1 1 1 1 1 1 1 1 1 1 1 1\n",
      " 1 1 1 1 1 1 1 1 1 1 1]\n",
      " and decode in decimal:\n",
      "[-487.10632324  499.98474121  499.98474121]\n",
      "-----------------------------------------------------------------------------------\n",
      "Epoch 37. The best element now is: 15 with value: 62617849219.02033.\n",
      "Best element itself in binary code:\n",
      "[1 1 1 1 1 1 1 0 1 0 1 0 1 1 0 1 1 1 1 1 1 1 1 1 1 1 1 1 1 1 1 1 1 1 1 1 1\n",
      " 1 1 1 1 1 1 1 1 1 1 1]\n",
      " and decode in decimal:\n",
      "[494.82727051 499.98474121 499.98474121]\n",
      "-----------------------------------------------------------------------------------\n",
      "Epoch 42. The best element now is: 49 with value: 62617857437.92296.\n",
      "Best element itself in binary code:\n",
      "[1 1 1 1 1 1 1 1 1 0 1 1 1 1 0 0 1 1 1 1 1 1 1 1 1 1 1 1 1 1 1 1 1 1 1 1 1\n",
      " 1 1 1 1 1 1 1 1 1 1 1]\n",
      " and decode in decimal:\n",
      "[498.96240234 499.98474121 499.98474121]\n",
      "-----------------------------------------------------------------------------------\n",
      "Epoch 61. The best element now is: 74 with value: 62617858778.8114.\n",
      "Best element itself in binary code:\n",
      "[1 1 1 1 1 1 1 1 1 1 1 0 1 0 0 0 1 1 1 1 1 1 1 1 1 1 1 1 1 1 1 1 1 1 1 1 1\n",
      " 1 1 1 1 1 1 1 1 1 1 1]\n",
      " and decode in decimal:\n",
      "[499.63378906 499.98474121 499.98474121]\n",
      "-----------------------------------------------------------------------------------\n",
      "Epoch 73. The best element now is: 17 with value: 62617859449.93176.\n",
      "Best element itself in binary code:\n",
      "[1 1 1 1 1 1 1 1 1 1 1 1 1 1 1 0 1 1 1 1 1 1 1 1 1 1 1 1 1 1 1 1 1 1 1 1 1\n",
      " 1 1 1 1 1 1 1 1 1 1 1]\n",
      " and decode in decimal:\n",
      "[499.96948242 499.98474121 499.98474121]\n",
      "-----------------------------------------------------------------------------------\n",
      "Epoch 78. The best element now is: 46 with value: 62617859480.447945.\n",
      "Best element itself in binary code:\n",
      "[1 1 1 1 1 1 1 1 1 1 1 1 1 1 1 1 1 1 1 1 1 1 1 1 1 1 1 1 1 1 1 1 1 1 1 1 1\n",
      " 1 1 1 1 1 1 1 1 1 1 1]\n",
      " and decode in decimal:\n",
      "[499.98474121 499.98474121 499.98474121]\n",
      "-----------------------------------------------------------------------------------\n"
     ]
    }
   ],
   "source": [
    "score_function = lambda x: 2*x[:, 0]**2 + x[:, 1]**3 + x[:, 2]**4 #+ 4*x[:, 2]**3 # some continuous function to evaluate on. This case it's 3d function\n",
    "bounds = [[-500, 500] for _ in range(3)] # bounds for obj function\n",
    "n_bits_per_value = 16 # we need to specify bits for each value, i.e. in this case it will be 3*5\n",
    "mut_prob = 1.0 / (len(bounds) * n_bits_per_value)\n",
    "\n",
    "gen_alg = GeneticAlgorithm(n_pop=100, n_bits=n_bits_per_value, bounds=bounds,\n",
    "                           mut_prob=mut_prob, score_function=score_function, n_epochs=100, minimize=False)\n",
    "gen_alg.simulate()"
   ],
   "metadata": {
    "collapsed": false,
    "pycharm": {
     "name": "#%%\n"
    }
   }
  },
  {
   "cell_type": "code",
   "execution_count": 2,
   "outputs": [],
   "source": [
    "import matplotlib\n",
    "import matplotlib.pyplot as plt\n",
    "from mpl_toolkits.mplot3d import Axes3D\n",
    "\n",
    "def draw_figure_3d(objective, bounds, step_size=0.01):\n",
    "    left_bound, right_bound = bounds\n",
    "    x_ax, y_ax = np.arange(left_bound, right_bound, step_size), np.arange(left_bound, right_bound, step_size)\n",
    "    x, y = np.meshgrid(x_ax, y_ax)\n",
    "    z = objective([x, y])\n",
    "    fig = plt.figure()\n",
    "    axis = fig.gca(projection='3d')\n",
    "    axis.plot_surface(x, y, z, cmap='jet')\n",
    "    plt.show()\n",
    "\n"
   ],
   "metadata": {
    "collapsed": false,
    "pycharm": {
     "name": "#%%\n"
    }
   }
  },
  {
   "cell_type": "code",
   "execution_count": null,
   "outputs": [],
   "source": [],
   "metadata": {
    "collapsed": false,
    "pycharm": {
     "name": "#%%\n"
    }
   }
  },
  {
   "cell_type": "code",
   "execution_count": 94,
   "outputs": [
    {
     "name": "stdout",
     "output_type": "stream",
     "text": [
      "Epoch 0. The best element now is: 5 with value: 14.\n",
      "Epoch 2. The best element now is: 7 with value: 15.\n",
      "Epoch 4. The best element now is: 9 with value: 16.\n",
      "Epoch 6. The best element now is: 7 with value: 17.\n",
      "Epoch 8. The best element now is: 8 with value: 18.\n",
      "Epoch 9. The best element now is: 4 with value: 19.\n"
     ]
    }
   ],
   "source": [
    "# current problem: size of the population changes from iter to iter\n",
    "gen_alg = GeneticAlgorithm(n_pop = 10, n_bits = 20, n_epochs=20)\n",
    "gen_alg.simulate()"
   ],
   "metadata": {
    "collapsed": false,
    "pycharm": {
     "name": "#%%\n"
    }
   }
  },
  {
   "cell_type": "code",
   "execution_count": null,
   "outputs": [],
   "source": [],
   "metadata": {
    "collapsed": false,
    "pycharm": {
     "name": "#%%\n"
    }
   }
  },
  {
   "cell_type": "code",
   "execution_count": null,
   "outputs": [],
   "source": [],
   "metadata": {
    "collapsed": false,
    "pycharm": {
     "name": "#%%\n"
    }
   }
  },
  {
   "cell_type": "code",
   "execution_count": null,
   "outputs": [],
   "source": [],
   "metadata": {
    "collapsed": false,
    "pycharm": {
     "name": "#%%\n"
    }
   }
  },
  {
   "cell_type": "code",
   "execution_count": null,
   "outputs": [],
   "source": [],
   "metadata": {
    "collapsed": false,
    "pycharm": {
     "name": "#%%\n"
    }
   }
  },
  {
   "cell_type": "code",
   "execution_count": null,
   "outputs": [],
   "source": [],
   "metadata": {
    "collapsed": false,
    "pycharm": {
     "name": "#%%\n"
    }
   }
  },
  {
   "cell_type": "code",
   "execution_count": null,
   "outputs": [],
   "source": [],
   "metadata": {
    "collapsed": false,
    "pycharm": {
     "name": "#%%\n"
    }
   }
  },
  {
   "cell_type": "code",
   "execution_count": 62,
   "outputs": [
    {
     "data": {
      "text/plain": "-0.708465576171875"
     },
     "execution_count": 62,
     "metadata": {},
     "output_type": "execute_result"
    }
   ],
   "source": [
    "-5 + (28125/65536) * (5 - -5)"
   ],
   "metadata": {
    "collapsed": false,
    "pycharm": {
     "name": "#%%\n"
    }
   }
  },
  {
   "cell_type": "code",
   "execution_count": null,
   "outputs": [],
   "source": [],
   "metadata": {
    "collapsed": false,
    "pycharm": {
     "name": "#%%\n"
    }
   }
  },
  {
   "cell_type": "code",
   "execution_count": null,
   "outputs": [],
   "source": [],
   "metadata": {
    "collapsed": false,
    "pycharm": {
     "name": "#%%\n"
    }
   }
  },
  {
   "cell_type": "code",
   "execution_count": 225,
   "outputs": [],
   "source": [
    "# valid_ids = np.random.rand(len(pop)) < 0.7\n",
    "# pairs = np.stack([np.arange(0, len(pop)), np.arange(1, len(pop)+1)], axis=1)\n",
    "# pop = np.array(pop)\n",
    "# pop[pairs[valid_ids]]\n",
    "# valid_ids, pop[valid_ids], pop\n",
    "# pop[pairs[valid_ids]]\n",
    "\n",
    "# WORKS FINE"
   ],
   "metadata": {
    "collapsed": false,
    "pycharm": {
     "name": "#%%\n"
    }
   }
  },
  {
   "cell_type": "code",
   "execution_count": null,
   "outputs": [],
   "source": [],
   "metadata": {
    "collapsed": false,
    "pycharm": {
     "name": "#%%\n"
    }
   }
  }
 ],
 "metadata": {
  "kernelspec": {
   "display_name": "Python 3",
   "language": "python",
   "name": "python3"
  },
  "language_info": {
   "codemirror_mode": {
    "name": "ipython",
    "version": 2
   },
   "file_extension": ".py",
   "mimetype": "text/x-python",
   "name": "python",
   "nbconvert_exporter": "python",
   "pygments_lexer": "ipython2",
   "version": "2.7.6"
  }
 },
 "nbformat": 4,
 "nbformat_minor": 0
}