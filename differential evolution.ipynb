{
 "cells": [
  {
   "cell_type": "code",
   "execution_count": 1,
   "outputs": [],
   "source": [
    "import matplotlib\n",
    "import types\n",
    "from matplotlib import animation\n",
    "import matplotlib.pyplot as plt\n",
    "from mpl_toolkits.mplot3d import Axes3D\n",
    "import celluloid\n",
    "from celluloid import Camera\n",
    "import numpy as np"
   ],
   "metadata": {
    "collapsed": false
   }
  },
  {
   "cell_type": "code",
   "execution_count": 86,
   "outputs": [],
   "source": [
    "class DifferentialEvolutionAlgorithm(list):\n",
    "    def __init__(self, n_pop=10,\n",
    "                 score_function=np.sum, crossover_prob=0.9, F=0.5,\n",
    "                 bounds=(-1e-6, 1e6), n_epochs=5, minimize=False):\n",
    "        \"\"\"\n",
    "        Initializes Differential Evolution algorithm. Create init population.\n",
    "        Defines estimation function or const (F) for forward method of algorithm\n",
    "        :param n_pop: size of population\n",
    "        :param crossover_prob: float, probability to be crossovered, lies in [0, 1]\n",
    "        :param F: const or func, main estimation function of the method. Used whilst mutation is performed\n",
    "        :param bounds: bounds where lies solution\n",
    "        :param score_function: optimized function\n",
    "        :param n_epochs: number of iterations\n",
    "        :param minimize: boolean, False by default\n",
    "        \"\"\"\n",
    "\n",
    "        super().__init__()\n",
    "        if not isinstance(bounds, np.ndarray):\n",
    "            bounds = np.array(bounds)\n",
    "        self.n_pop = n_pop\n",
    "        self.n_dim = len(bounds)\n",
    "        self.bounds = bounds\n",
    "        self.pop = bounds[:, 0] + (bounds[:, 1] - bounds[:, 0])*np.random.rand(n_pop, len(bounds))\n",
    "        self.F_const = F   # real value, lies in [0, 2]\n",
    "        # TODO: self.F_func = F_func or None\n",
    "        self.crossover_prob = crossover_prob        # crossover probability value is high typically\n",
    "        self.n_epochs = n_epochs\n",
    "        self.minimize = minimize\n",
    "        self.score_function = score_function\n",
    "        self.scores = self.score_function(self.pop) # TODO: correct the function till we need to handle np.array\n",
    "\n",
    "    def mutation(self, indices_3groups):\n",
    "        \"\"\"\n",
    "        performs mutation by formula x_0 + F(x_1 - x_2)\n",
    "        :param children: np.array of shape (n_pop, 3), with each values in each dimension in columns\n",
    "                        mapped to a place in randomly selected trials.\n",
    "        :return: mutated population, clipped to bounds if out of range.\n",
    "        \"\"\"\n",
    "        first_group=self.pop[indices_3groups[:, 0]]\n",
    "        second_group=self.pop[indices_3groups[:, 1]]\n",
    "        third_group=self.pop[indices_3groups[:, 2]]\n",
    "\n",
    "        mutated = np.clip(first_group+self.F_const*(second_group - third_group), self.bounds[:, 0], self.bounds[:, 1])\n",
    "\n",
    "        return mutated\n",
    "    def crossover(self, mutated):\n",
    "        \"\"\"\n",
    "        performs crossover, which is mutation part de-facto.\n",
    "        :param mutated: subset of population\n",
    "        :return: changed population\n",
    "        \"\"\"\n",
    "        probs = np.random.rand(mutated.shape[0], mutated.shape[1])\n",
    "        val_ind = probs > self.crossover_prob\n",
    "\n",
    "        mutated[val_ind] = self.pop[val_ind]\n",
    "        return mutated\n",
    "\n",
    "    def if_update_best(self, next, epoch):\n",
    "        \"\"\"\n",
    "        Updates best value having an update.\n",
    "        Prints new best element, ind of this element and its score.\n",
    "        :param epoch: current epoch number\n",
    "        :param next:\n",
    "        \"\"\"\n",
    "        update_best = False\n",
    "        if self.minimize:\n",
    "            best_ind_temp = np.argmin(self.scores)\n",
    "            if self.scores[best_ind_temp] < self.best_value:\n",
    "                update_best = True\n",
    "        else:\n",
    "            best_ind_temp = np.argmax(self.scores)\n",
    "            if self.scores[best_ind_temp] > self.best_value:\n",
    "                update_best = True\n",
    "        if update_best:\n",
    "            best_ind = best_ind_temp.copy()\n",
    "            best_val = self.scores[best_ind].copy()\n",
    "            self.best_value = best_val\n",
    "            print(f'Epoch {epoch}. The best element now is: {best_ind} with value: {best_val}.')\n",
    "            print(f'Best element of population:\\n{self.pop[best_ind]}\\n and its score in decimal:'\n",
    "                  f'\\n{self.scores[best_ind]}')\n",
    "            print('-----------------------------------------------------------------------------------')\n",
    "\n",
    "    def choosing_trials(self):\n",
    "        \"\"\"\n",
    "        Choosing three groups of elements for main DE algorithm: first group is simple range of the array, second and third — random indices.\n",
    "        :return: np.ndarray of shape (self.n_pop, 3), with each column corresponding to each group of indices needed.\n",
    "        \"\"\"\n",
    "        indices = range(self.n_pop)\n",
    "        selected_indices = np.zeros((self.n_pop, 3), dtype=np.int32)\n",
    "\n",
    "        for obj_id in range(self.n_pop-1):\n",
    "            selected_indices[obj_id, 0] = obj_id\n",
    "\n",
    "            selected_indices[obj_id, 1:] = np.random.choice\\\n",
    "                    (np.concatenate((indices[:obj_id], indices[(obj_id+1):])), size=2, replace=False)\n",
    "        selected_indices[-1, 0] = self.n_pop-1\n",
    "        selected_indices[-1, 1:] = np.random.choice\\\n",
    "                    (indices[:-1], size=2, replace=False)\n",
    "        return selected_indices\n",
    "    def simulate(self):\n",
    "        best_ind, best_val = 0, self.scores[0].copy()\n",
    "        self.best_value = best_val\n",
    "        for ep in range(self.n_epochs):\n",
    "            indices_3groups = self.choosing_trials()\n",
    "\n",
    "            mutated = self.mutation(indices_3groups)\n",
    "            next = self.crossover(mutated)\n",
    "            self.if_update_best(next, ep)\n",
    "            self.pop = next\n",
    "            self.scores = self.score_function(self.pop)"
   ],
   "metadata": {
    "collapsed": false
   }
  },
  {
   "cell_type": "code",
   "execution_count": 87,
   "outputs": [
    {
     "name": "stdout",
     "output_type": "stream",
     "text": [
      "Epoch 0. The best element now is: 8 with value: 36.43938059552326.\n",
      "Best element of population:\n",
      "[-3.0845525   2.01781101]\n",
      " and its score in decimal:\n",
      "36.43938059552326\n",
      "-----------------------------------------------------------------------------------\n",
      "Epoch 1. The best element now is: 8 with value: 3.583990520010309.\n",
      "Best element of population:\n",
      "[-3.0845525   3.27254211]\n",
      " and its score in decimal:\n",
      "3.583990520010309\n",
      "-----------------------------------------------------------------------------------\n",
      "Epoch 12. The best element now is: 2 with value: 0.25396643568480953.\n",
      "Best element of population:\n",
      "[3.04045094 2.0837611 ]\n",
      " and its score in decimal:\n",
      "0.25396643568480953\n",
      "-----------------------------------------------------------------------------------\n"
     ]
    }
   ],
   "source": [
    "# 2 * x ** 2 + 14*y ** 3 -7*x*y + x - y**4\n",
    "# mins = [(3, 2), (-2.805118, 3.131312), (-3.779310, -3.283186), (3.584428, -1.848126)]\n",
    "himmelblau_function = lambda x: (x[:, 0]**2 + x[:, 1] - 11)**2 + (x[:, 0] + x[:, 1]**2 - 7)**2\n",
    "n_pop = 10\n",
    "n_epochs = 100\n",
    "F = 0.4\n",
    "crossover_prob = 0.9\n",
    "bounds = [[-5, 5] for _ in range(2)]\n",
    "diff_alg = DifferentialEvolutionAlgorithm(n_pop, himmelblau_function, crossover_prob,\n",
    "                                            F, bounds, n_epochs, minimize=True)\n",
    "diff_alg.simulate()"
   ],
   "metadata": {
    "collapsed": false
   }
  },
  {
   "cell_type": "code",
   "execution_count": 6,
   "outputs": [
    {
     "data": {
      "text/plain": "array([[6, 3, 4]])"
     },
     "execution_count": 6,
     "metadata": {},
     "output_type": "execute_result"
    }
   ],
   "source": [
    "import numpy as np\n",
    "arr = np.array([[1, 2], [2, 3], [3,7], [1,-1]])\n",
    "indices = np.arange(8)\n",
    "np.random.choice(indices, size=(1, 3), replace=False)"
   ],
   "metadata": {
    "collapsed": false
   }
  }
 ],
 "metadata": {
  "kernelspec": {
   "display_name": "Python 3",
   "language": "python",
   "name": "python3"
  },
  "language_info": {
   "codemirror_mode": {
    "name": "ipython",
    "version": 2
   },
   "file_extension": ".py",
   "mimetype": "text/x-python",
   "name": "python",
   "nbconvert_exporter": "python",
   "pygments_lexer": "ipython2",
   "version": "2.7.6"
  }
 },
 "nbformat": 4,
 "nbformat_minor": 0
}
